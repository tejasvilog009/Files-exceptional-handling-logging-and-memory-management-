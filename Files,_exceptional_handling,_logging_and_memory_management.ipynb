{
  "nbformat": 4,
  "nbformat_minor": 0,
  "metadata": {
    "colab": {
      "provenance": []
    },
    "kernelspec": {
      "name": "python3",
      "display_name": "Python 3"
    },
    "language_info": {
      "name": "python"
    }
  },
  "cells": [
    {
      "cell_type": "markdown",
      "source": [
        "#**FILES, EXCEPTIONAL HANDLING,LOGGING AND MEMORY MANAGEMENT**"
      ],
      "metadata": {
        "id": "HFbdBRE9dCQi"
      }
    },
    {
      "cell_type": "markdown",
      "source": [
        "#Q1.What is the difference between interpreted and compiled languages\n",
        "\n",
        "Ans. **Compiled Languages**\n",
        "\n",
        "*The entire source code is translated at once into machine code by a compiler.\n",
        "\n",
        "*Compilation happens before the program runs.\n",
        "\n",
        "*Usually faster execution because the code is pre-translated.\n",
        "\n",
        "*Needs a separate compilation step.\n",
        "\n",
        "** Interpreted Languages**\n",
        "*Source code is translated line-by-line by an interpreter during execution.\n",
        "\n",
        "*No separate compilation – translation happens while running.\n",
        "\n",
        "*Usually slower execution due to on-the-fly interpretation.\n",
        "\n",
        "*Easier to test and debug quickly.\n",
        "\n",
        "\n"
      ],
      "metadata": {
        "id": "SO78l3x6dhKQ"
      }
    },
    {
      "cell_type": "markdown",
      "source": [
        "#Q2.  What is exception handling in Python\n",
        "Ans. Exception handling is a way to manage errors that occur while a program is running, so it doesn't crash unexpectedly.\n",
        "\n"
      ],
      "metadata": {
        "id": "OYCH9PvtoPzb"
      }
    },
    {
      "cell_type": "markdown",
      "source": [
        "#Q3.What is the purpose of the finally block in exception handling\n",
        "\n",
        "Ans. The finally block is used to execute code no matter what happens — whether an exception is raised or not.\n",
        "\n",
        "**Guaranteed execution**: Runs always, even if there's a return, break, or an exception in the try or except.\n",
        "\n",
        "**Cleanup actions**: Used for tasks like:\n",
        "\n",
        "*Closing files\n",
        "\n",
        "*Releasing resources"
      ],
      "metadata": {
        "id": "JdGrEUf8o4oV"
      }
    },
    {
      "cell_type": "markdown",
      "source": [
        "#Q4. What is logging in Python\n",
        "\n",
        "Ans. Logging in Python is a way to track events that happen while a program runs. It's used for debugging, monitoring, and record-keeping — like a diary for your code.\n",
        "\n"
      ],
      "metadata": {
        "id": "U6LEsg-OqJ-k"
      }
    },
    {
      "cell_type": "markdown",
      "source": [
        "#Q5. What is the significance of the __del__ method in Python\n",
        "Ans. The __del__ method in Python is a destructor — it is called automatically when an object is about to be destroyed.\n",
        "\n"
      ],
      "metadata": {
        "id": "zlkhayIkqdaI"
      }
    },
    {
      "cell_type": "markdown",
      "source": [
        "#Q6.What is the difference between import and from ... import in Python\n",
        "Ans. **Difference Between import and from ... import in Python**\n",
        "\n",
        "Both are used to bring in external code (modules or specific parts of them), but they differ in how you access that code.\n",
        "\n",
        "**1. import Statement**\n",
        "\n",
        "*Imports the entire module.\n",
        "\n",
        "*Access functions or variables using dot notation.\n",
        "\n",
        "*Keeps code organized and clear.\n",
        "\n",
        "*Slightly more typing, but better for readability.\n",
        "\n",
        "**2. from ... import Statement**\n",
        "\n",
        "*Imports specific function(s), class(es), or variable(s) from a module.\n",
        "\n",
        "*You can use them directly without module prefix.\n",
        "\n",
        "*Makes code shorter, but can cause name clashes.\n",
        "\n",
        "\n",
        "\n",
        "\n"
      ],
      "metadata": {
        "id": "ww26FBXutqCF"
      }
    },
    {
      "cell_type": "markdown",
      "source": [
        "#Q7.How can you handle multiple exceptions in Python\n",
        "Ans.Python lets you handle more than one exception type using either multiple except blocks or a single block that catches multiple exceptions.\n",
        "\n",
        "**1. Multiple except Blocks**\n",
        "You can handle each exception individually:"
      ],
      "metadata": {
        "id": "TRMZ18N4_Is7"
      }
    },
    {
      "cell_type": "code",
      "source": [
        "try:\n",
        "    num = int(input(\"Enter a number: \"))\n",
        "    result = 10 / num\n",
        "except ValueError:\n",
        "    print(\"That's not a number!\")\n",
        "except ZeroDivisionError:\n",
        "    print(\"You can't divide by zero!\")\n"
      ],
      "metadata": {
        "colab": {
          "base_uri": "https://localhost:8080/"
        },
        "id": "InqbMwnMAxZe",
        "outputId": "ae1203fb-e63a-4ea8-e6da-53088f0d7775"
      },
      "execution_count": null,
      "outputs": [
        {
          "name": "stdout",
          "output_type": "stream",
          "text": [
            "Enter a number: 43\n"
          ]
        }
      ]
    },
    {
      "cell_type": "markdown",
      "source": [
        "**2. Single except with Tuple**\n",
        "Catch multiple exceptions with one block:"
      ],
      "metadata": {
        "id": "nmY-YAGuA3Ju"
      }
    },
    {
      "cell_type": "code",
      "execution_count": null,
      "metadata": {
        "colab": {
          "base_uri": "https://localhost:8080/"
        },
        "id": "6HInuIQwc4vW",
        "outputId": "9fb81c18-187b-454e-ed43-f77f29fbd142"
      },
      "outputs": [
        {
          "name": "stdout",
          "output_type": "stream",
          "text": [
            "Enter a number: 54\n"
          ]
        }
      ],
      "source": [
        "try:\n",
        "    num = int(input(\"Enter a number: \"))\n",
        "    result = 10 / num\n",
        "except (ValueError, ZeroDivisionError) as e:\n",
        "    print(\"Error occurred:\", e)\n"
      ]
    },
    {
      "cell_type": "markdown",
      "source": [
        " **3. Catch-All Exception (Not always recommended)**\n",
        "Use Exception to catch any exception:"
      ],
      "metadata": {
        "id": "ocbsjp3QF_xd"
      }
    },
    {
      "cell_type": "code",
      "source": [
        "try:\n",
        "    num = int(input(\"Enter a number: \"))\n",
        "    result = 10 / num\n",
        "except (ValueError, ZeroDivisionError) as e:\n",
        "    print(\"Handled:\", e)\n",
        "else:\n",
        "    print(\"No exceptions, result =\", result)\n",
        "finally:\n",
        "    print(\"Always runs!\")\n"
      ],
      "metadata": {
        "colab": {
          "base_uri": "https://localhost:8080/"
        },
        "id": "ekouTK6fGOB8",
        "outputId": "8fc498e0-2cbd-4e6b-834c-4594e6b3cc3b"
      },
      "execution_count": null,
      "outputs": [
        {
          "output_type": "stream",
          "name": "stdout",
          "text": [
            "Enter a number: 4\n",
            "No exceptions, result = 2.5\n",
            "Always runs!\n"
          ]
        }
      ]
    },
    {
      "cell_type": "markdown",
      "source": [
        "#Q8.What is the purpose of the with statement when handling files in Python\n",
        "Ans. The with statement in Python is used for resource management, especially when working with files. It ensures that resources are properly cleaned up — like automatically closing a file, even if an error occurs.\n",
        "\n"
      ],
      "metadata": {
        "id": "Pk44jSr6GZxO"
      }
    },
    {
      "cell_type": "markdown",
      "source": [
        "#Q9.What is the difference between multithreading and multiprocessing\n",
        "Ans.Both multithreading and multiprocessing are used for concurrent execution, but they work differently under the hood and are suited for different tasks.\n",
        "\n",
        "**1. Multithreading**\n",
        "Runs multiple threads within a single process.\n",
        "\n",
        "Threads share the same memory space.\n",
        "\n",
        "Best for I/O-bound tasks (like reading files, web scraping, or network operations).\n",
        "\n",
        " **2. Multiprocessing**\n",
        "Runs multiple processes, each with its own memory space.\n",
        "\n",
        "Best for CPU-bound tasks (like heavy calculations or image processing).\n",
        "\n",
        "Avoids Python's Global Interpreter Lock (GIL).\n",
        "\n",
        "\n"
      ],
      "metadata": {
        "id": "42wEp3R2HG9o"
      }
    },
    {
      "cell_type": "markdown",
      "source": [
        "#Q10.  What are the advantages of using logging in a program\n",
        "Ans. Logging is like keeping a diary for your code — it helps you understand what's happening, especially when things go wrong. Here's why it's a smart move\n",
        "\n",
        "**1. Helps with Debugging**\n",
        "\n",
        "You can track what happened and when.\n",
        "\n",
        "Know the exact flow of execution before an error.\n",
        "\n",
        "**2. Records Errors and Events**\n",
        "\n",
        "Logs show warnings, errors, and critical issues.\n",
        "\n",
        "Helps in post-mortem analysis (even after a crash).\n",
        "\n",
        "**3. Real-Time Monitoring**\n",
        "\n",
        "Used in production to monitor systems without interrupting them.\n",
        "\n",
        "Alerts you to problems as they happen.\n",
        "\n",
        "**4. Better than print()**\n",
        "\n",
        "You can set log levels (DEBUG, INFO, WARNING, etc.).\n",
        "\n",
        "Can be configured to log to files, servers, or emails — not just the console.\n",
        "\n",
        "Keeps debug info out of production code.\n",
        "\n",
        "**5. Customizable Output**\n",
        "\n",
        "You can format logs to include:\n",
        "\n",
        "Timestamp\n",
        "\n",
        "Filename\n",
        "\n",
        "Line number\n",
        "\n",
        "Log level\n",
        "\n",
        "Message\n",
        "\n",
        "**7. Makes Maintenance Easier**\n",
        "\n",
        "Developers can understand the system behavior without stepping through every line.\n",
        "\n",
        "Great for teams — others can see what went wrong without reproducing the issue.\n",
        "\n",
        "\n",
        "\n",
        "\n",
        "\n",
        "\n",
        "\n"
      ],
      "metadata": {
        "id": "67QrM1mPIOcR"
      }
    },
    {
      "cell_type": "markdown",
      "source": [
        "#Q11. What is memory management in Python\n",
        "Ans. Memory management in Python refers to how Python handles the allocation and release of memory to ensure your program runs efficiently and doesn't crash due to memory issues.\n",
        "\n"
      ],
      "metadata": {
        "id": "cBKDKUi2Jqec"
      }
    },
    {
      "cell_type": "markdown",
      "source": [
        "#Q12. What are the basic steps involved in exception handling in Python\n",
        "Ans.Python’s exception handling uses a structured flow to detect and manage errors during program execution.\n",
        "\n",
        "**1. try Block**\n",
        "\n",
        "Wrap the code that might cause an exception.\n",
        "\n",
        "Python watches for errors inside this block.\n",
        "\n",
        "**2. except Block**\n",
        "\n",
        "If an exception occurs in the try, the code jumps here.\n",
        "\n",
        "You can catch specific or general exceptions.\n",
        "\n",
        "**3. (Optional) else Block**\n",
        "\n",
        "Executes only if no exception was raised in the try block.\n",
        "\n",
        "**4. (Optional) finally Block**\n",
        "\n",
        "Runs no matter what — whether an exception occurred or not.\n",
        "\n",
        "Perfect for cleanup (like closing files or connections).\n",
        "\n",
        "\n",
        "\n",
        "\n",
        "\n",
        "\n",
        "\n"
      ],
      "metadata": {
        "id": "mXN3hVknKZpn"
      }
    },
    {
      "cell_type": "markdown",
      "source": [
        "#Q13 Why is memory management important in Python\n",
        "Ans. Memory management is crucial because it keeps your Python programs efficient, stable, and scalable. Without it, apps can become slow, crash, or consume way more resources than needed.\n",
        "\n",
        "**1. Prevents Memory Leaks**\n",
        "\n",
        "If memory isn't properly released, your program may consume more and more RAM.\n",
        "\n",
        "Python’s garbage collector helps avoid this by automatically cleaning up unused objects.\n",
        "\n",
        "**2. Optimizes Performance**\n",
        "\n",
        "Good memory management = faster execution.\n",
        "\n",
        "Python uses techniques like reference counting and memory pooling to make this smooth.\n",
        "\n",
        "**3. Supports Large Applications**\n",
        "\n",
        "As apps grow, managing resources becomes harder.\n",
        "\n",
        "Efficient memory handling ensures that big data, AI models, or web services don’t crash or lag.\n",
        "\n",
        "**4. Improves System Stability**\n",
        "\n",
        "Avoids crashes caused by out-of-memory errors.\n",
        "\n",
        "Keeps system resources (RAM, CPU) balanced across processes.\n",
        "\n",
        "**5. Reduces Developer Burden**\n",
        "\n",
        "Python handles memory behind the scenes, letting devs focus on logic instead of low-level memory handling (unlike C/C++).\n",
        "\n",
        "\n"
      ],
      "metadata": {
        "id": "H9YAuNonLnaB"
      }
    },
    {
      "cell_type": "markdown",
      "source": [
        "#Q14. What is the role of try and except in exception handling\n",
        "\n",
        "Ans.The try and except blocks are used to detect and handle errors in a program without crashing it.\n",
        "\n",
        "**1. try Block → Watch for Errors**\n",
        "\n",
        "*Place any code that might raise an error inside a try block.\n",
        "\n",
        "*Python monitors this block while running it. 1. try Block → Watch for Errors\n",
        "Place any code that might raise an error inside a try block.\n",
        "\n",
        "*Python monitors this block while running it.\n",
        "\n",
        "**2. except Block → Respond to Errors**\n",
        "\n",
        "*If an error occurs in the try block, Python stops there and jumps to the except block.\n",
        "\n",
        "*You can handle the error with a custom message or logic.\n",
        "\n",
        "\n"
      ],
      "metadata": {
        "id": "2HEke1xDUmyO"
      }
    },
    {
      "cell_type": "markdown",
      "source": [
        "#Q15. How does Python's garbage collection system work\n",
        "Ans.Python’s garbage collection system is designed to automatically manage memory by cleaning up objects that are no longer needed — so you don’t have to manually delete them!\n",
        "\n",
        "**1. Reference Counting (Primary Mechanism)**\n",
        "\n",
        "Every object in Python has a reference count — a number that tracks how many variables are using it.\n",
        "\n",
        "**2. Garbage Collector for Circular References**\n",
        "\n",
        "Sometimes, two objects reference each other, creating a loop (circular reference).\n",
        "\n",
        "These can’t be cleaned up by reference counting alone.\n",
        "\n",
        "#Q16. What is the purpose of the else block in exception handling\n",
        "Ans. The else block in Python’s exception handling is used to run code that should only execute if no exceptions occurred in the try block.\n",
        "\n",
        "#Q17.What are the common logging levels in Python\n",
        "\n",
        "Ans.Python provides built-in support for logging through the logging module, and it uses logging levels to indicate the severity or importance of messages.\n",
        "\n",
        "Use logging levels to filter, organize, and prioritize messages — especially useful for debugging, monitoring, and troubleshooting real-world apps.\n",
        "\n",
        "\n",
        "#Q18. What is the difference between os.fork() and multiprocessing in Python\n",
        "\n",
        "Ans.Both os.fork() and the multiprocessing module are used to create new processes, but they work very differently in terms of portability, usability, and control.\n",
        "\n",
        "**1. os.fork()**\n",
        "\n",
        "*Creates a child process by duplicating the current process.\n",
        "\n",
        "*Available only on Unix-based systems (Linux, macOS).\n",
        "\n",
        "*It's a low-level system call — gives more manual control.\n",
        "\n",
        "**2. multiprocessing Module**\n",
        "\n",
        "*A high-level API built on top of os.fork() (on Unix).\n",
        "\n",
        "*Cross-platform  works on Windows, macOS, Linux.\n",
        "\n",
        "*Provides Process classes, Queues, Pipes, Pools, etc.\n",
        "\n",
        "#Q19. What is the importance of closing a file in Python\n",
        "Ans.When working with files in Python, closing a file is very important to ensure resources are properly released and data is safely stored.\n",
        "\n",
        "*Open files consume system memory and file handles.\n",
        "\n",
        "*Closing the file releases those resources.\n",
        "\n",
        "*When writing to a file, data is temporarily held in a buffer.\n",
        "\n",
        "*file.close() ensures that all data is written to the file.\n",
        "\n",
        "*If a file isn’t closed properly, especially after writing, it can become corrupted or incomplete.\n",
        "\n",
        "#20. What is the difference between file.read() and file.readline() in Python\n",
        "Ans.Difference Between file.read() and file.readline() in Python\n",
        "Both methods are used to read from a file, but they behave quite differently.\n",
        "\n",
        "**1. file.read() – Reads the Whole File or a Specific Number of Characters**\n",
        "\n",
        "*It reads the entire file content into a single string.\n",
        "\n",
        "*You can also pass a number to read that many characters (or bytes).\n",
        "\n",
        "**2. file.readline() – Reads Just One Line at a Time**\n",
        "\n",
        "*It reads only the next line (up to the newline \\n).\n",
        "\n",
        "*Each call to readline() moves the cursor to the next line.\n",
        "\n",
        "\n",
        "#Q21.What is the logging module in Python used for\n",
        "\n",
        "Ans.The logging module in Python is used to track events that happen during a program’s execution. It lets you record messages (logs) for debugging, monitoring, or error tracking.\n",
        "\n"
      ],
      "metadata": {
        "id": "SXZyr2aMi729"
      }
    },
    {
      "cell_type": "markdown",
      "source": [
        "#Q22. What is the os module in Python used for in file handling\n",
        "Ans.The os module in Python provides functions to interact with the operating system, especially for file and directory management.\n",
        "\n",
        "🔹 Check if a file/directory exists\n",
        "\n",
        "🔹 Create, rename, or delete files and directories\n",
        "\n",
        "🔹 Navigate the file system\n",
        "\n",
        "🔹 List contents of a directory\n",
        "\n",
        "🔹 Build file paths in a platform-independent way\n",
        "\n",
        "\n",
        "#Q23. What are the challenges associated with memory management in Python\n",
        "Ans.Python does a lot of memory management for you, but there are still some challenges .\n",
        "\n",
        " Common Challenges (in Points):\n",
        "\n",
        "**Circular References**\n",
        "\n",
        "When two or more objects reference each other, they may not be collected automatically by the garbage collector.\n",
        "\n",
        "**Memory Leaks**\n",
        "\n",
        "Caused by holding references to objects that are no longer needed (e.g., global variables, lingering data in containers).\n",
        "\n",
        "**High Memory Usage with Large Data**\n",
        "\n",
        "Handling large datasets or large numbers of objects can lead to high memory consumption.\n",
        "\n",
        "**Manual Resource Management**\n",
        "\n",
        "External resources like files or network connections need to be properly closed or released.\n",
        "\n",
        "**Fragmentation of Memory**\n",
        "\n",
        "Frequent allocation and deallocation of memory can lead to fragmentation, especially in long-running programs.\n",
        "\n",
        "**Inefficient Object References**\n",
        "\n",
        "Improperly managing variables and object references can keep data alive longer than needed.\n",
        "\n",
        "**Debugging Memory Issues is Tricky**\n",
        "\n",
        "Identifying what is holding memory or why garbage collection isn’t happening can be difficult.\n",
        "\n",
        "**Performance Trade-offs**\n",
        "\n",
        "Python’s memory safety comes with a performance cost compared to lower-level languages like C/C++.\n",
        "\n",
        "**Reference Counting Overhead**\n",
        "\n",
        "Python uses reference counting for memory management, which adds overhead and can be tricky with circular dependencies.\n",
        "\n",
        "#Q24.How do you raise an exception manually in Python\n",
        "Ans. -In Python, the raise keyword is used to manually raise an exception. The syntax involves specifying the exception type and optionally a custom error message.\n"
      ],
      "metadata": {
        "id": "j-yxRXhxC9AL"
      }
    },
    {
      "cell_type": "code",
      "source": [
        "#FOR EG\n",
        "def process_data(data):\n",
        "    if not isinstance(data, int):\n",
        "        raise ValueError(\"Data must be an integer\")\n",
        "    # Proceed with processing if data is valid"
      ],
      "metadata": {
        "id": "gxW36MbcJ1Of"
      },
      "execution_count": 6,
      "outputs": []
    },
    {
      "cell_type": "markdown",
      "source": [
        "#Q25.Why is it important to use multithreading in certain applications\n",
        "Ans.Multithreading allows a program to run multiple tasks concurrently, making better use of CPU resources — especially in scenarios where tasks spend time waiting.\n",
        " Python has a Global Interpreter Lock (GIL), which means multithreading doesn’t speed up CPU-bound tasks — for those, multiprocessing is better.\n",
        "\n",
        "\n",
        "\n"
      ],
      "metadata": {
        "id": "dvDml47-J6DK"
      }
    },
    {
      "cell_type": "markdown",
      "source": [
        "# **PRACTICAL SOLUTION**"
      ],
      "metadata": {
        "id": "70B0ACzsKtEA"
      }
    },
    {
      "cell_type": "markdown",
      "source": [
        "#Q1. How can you open a file for writing in Python and write a string to it\n",
        "Ans.In Python, you can open a file using the built-in open() function and write to it using the write() method.\n",
        "\n",
        "\n"
      ],
      "metadata": {
        "id": "EH5LkYc_LBzT"
      }
    },
    {
      "cell_type": "code",
      "source": [
        "with open(\"example.txt\", \"w\") as file:\n",
        "    file.write(\"Hello, this is a test message.\")\n"
      ],
      "metadata": {
        "id": "WWbNckBhLZEn"
      },
      "execution_count": 7,
      "outputs": []
    },
    {
      "cell_type": "markdown",
      "source": [
        "#Q2.Write a Python program to read the contents of a file and print each line"
      ],
      "metadata": {
        "id": "AWVeuiSPLnb9"
      }
    },
    {
      "cell_type": "code",
      "source": [
        "# Open the file in read mode\n",
        "file_name = \"example.txt\"  # Replace with the path of your file\n",
        "\n",
        "try:\n",
        "    with open(file_name, 'r') as file:\n",
        "        # Read and print each line\n",
        "        for line in file:\n",
        "            print(line.strip())  # strip() removes leading/trailing whitespace\n",
        "except FileNotFoundError:\n",
        "    print(f\"The file {file_name} was not found.\")\n",
        "except IOError:\n",
        "    print(\"An error occurred while reading the file.\")\n"
      ],
      "metadata": {
        "colab": {
          "base_uri": "https://localhost:8080/",
          "height": 0
        },
        "id": "i-b4Cr2eNLfH",
        "outputId": "db959b4d-fcdb-4968-c56e-c834f2a10f0f"
      },
      "execution_count": 10,
      "outputs": [
        {
          "output_type": "stream",
          "name": "stdout",
          "text": [
            "Hello, this is a test message.\n"
          ]
        }
      ]
    },
    {
      "cell_type": "markdown",
      "source": [
        "#Q3.How would you handle a case where the file doesn't exist while trying to open it for reading"
      ],
      "metadata": {
        "id": "iGnhqakkNnmg"
      }
    },
    {
      "cell_type": "code",
      "source": [
        "file_name = \"nonexistent_file.txt\"\n",
        "\n",
        "try:\n",
        "    with open(file_name, 'r') as file:\n",
        "        for line in file:\n",
        "            print(line.strip())\n",
        "except FileNotFoundError:\n",
        "    print(f\"Error: The file '{file_name}' does not exist.\")\n",
        "except IOError as e:\n",
        "    print(f\"An I/O error occurred: {e}\")\n"
      ],
      "metadata": {
        "colab": {
          "base_uri": "https://localhost:8080/",
          "height": 0
        },
        "id": "d7uh_LsFNlau",
        "outputId": "3e171031-d391-4e92-fcb2-2dc455e06f6d"
      },
      "execution_count": 11,
      "outputs": [
        {
          "output_type": "stream",
          "name": "stdout",
          "text": [
            "Error: The file 'nonexistent_file.txt' does not exist.\n"
          ]
        }
      ]
    },
    {
      "cell_type": "markdown",
      "source": [
        "#Q4.Write a Python script that reads from one file and writes its content to another file"
      ],
      "metadata": {
        "id": "B72UanymO0yR"
      }
    },
    {
      "cell_type": "code",
      "source": [
        "# Define source and destination file paths\n",
        "source_file = \"source.txt\"\n",
        "destination_file = \"destination.txt\"\n",
        "\n",
        "try:\n",
        "    # Open source file for reading\n",
        "    with open(source_file, 'r') as src:\n",
        "        # Open destination file for writing\n",
        "        with open(destination_file, 'w') as dst:\n",
        "            # Read each line from source and write to destination\n",
        "            for line in src:\n",
        "                dst.write(line)\n",
        "    print(f\"Contents copied from '{source_file}' to '{destination_file}'.\")\n",
        "except FileNotFoundError:\n",
        "    print(f\"Error: The file '{source_file}' was not found.\")\n",
        "except IOError as e:\n",
        "    print(f\"An I/O error occurred: {e}\")\n"
      ],
      "metadata": {
        "colab": {
          "base_uri": "https://localhost:8080/",
          "height": 0
        },
        "id": "nuw-gTXBOvBt",
        "outputId": "c1aaddd1-f985-43c2-b559-c9c73693966a"
      },
      "execution_count": 12,
      "outputs": [
        {
          "output_type": "stream",
          "name": "stdout",
          "text": [
            "Contents copied from 'source.txt' to 'destination.txt'.\n"
          ]
        }
      ]
    },
    {
      "cell_type": "markdown",
      "source": [
        "#Q5.How would you catch and handle division by zero error in Python\n",
        "Ans.use a try-except block and specifically catch the Zero Division Error.\n",
        "\n",
        "\n"
      ],
      "metadata": {
        "id": "L_ykxPtMPbGV"
      }
    },
    {
      "cell_type": "code",
      "source": [
        "try:\n",
        "    numerator = 10\n",
        "    denominator = 0\n",
        "    result = numerator / denominator\n",
        "    print(\"Result:\", result)\n",
        "except ZeroDivisionError:\n",
        "    print(\"Error: Cannot divide by zero.\")\n"
      ],
      "metadata": {
        "colab": {
          "base_uri": "https://localhost:8080/",
          "height": 0
        },
        "id": "WPMKlvIYPDWw",
        "outputId": "125f73dc-ef53-4785-c2bb-746c694eecf8"
      },
      "execution_count": 13,
      "outputs": [
        {
          "output_type": "stream",
          "name": "stdout",
          "text": [
            "Error: Cannot divide by zero.\n"
          ]
        }
      ]
    },
    {
      "cell_type": "markdown",
      "source": [
        "#Q6.Write a Python program that logs an error message to a log file when a division by zero exception occurs\n"
      ],
      "metadata": {
        "id": "wqE1lhrVQAVw"
      }
    },
    {
      "cell_type": "code",
      "source": [
        "import logging\n",
        "\n",
        "# Configure logging\n",
        "logging.basicConfig(\n",
        "    filename='error.log',         # Log file name\n",
        "    level=logging.ERROR,          # Log level\n",
        "    format='%(asctime)s - %(levelname)s - %(message)s'\n",
        ")\n",
        "\n",
        "def divide(a, b):\n",
        "    try:\n",
        "        return a / b\n",
        "    except ZeroDivisionError as e:\n",
        "        logging.error(\"Attempted to divide by zero: %s / %s\", a, b)\n",
        "        return None\n",
        "\n",
        "# Example usage\n",
        "result = divide(10, 0)\n",
        "\n",
        "if result is None:\n",
        "    print(\"An error occurred. Check 'error.log' for details.\")\n",
        "else:\n",
        "    print(\"Result:\", result)\n"
      ],
      "metadata": {
        "colab": {
          "base_uri": "https://localhost:8080/",
          "height": 0
        },
        "id": "1TCxmVYrP80E",
        "outputId": "dec8f308-9761-41cd-8dfb-9267cd1c3456"
      },
      "execution_count": 14,
      "outputs": [
        {
          "output_type": "stream",
          "name": "stderr",
          "text": [
            "ERROR:root:Attempted to divide by zero: 10 / 0\n"
          ]
        },
        {
          "output_type": "stream",
          "name": "stdout",
          "text": [
            "An error occurred. Check 'error.log' for details.\n"
          ]
        }
      ]
    },
    {
      "cell_type": "markdown",
      "source": [
        "#Q7.How do you log information at different levels (INFO, ERROR, WARNING) in Python using the logging module\n",
        "\n",
        "Ans.  Use level=logging.INFO or higher if you don’t want to log debug messages.\n",
        "\n",
        "The format option controls how log entries are displayed.\n",
        "\n",
        "You can log to the console instead of a file by omitting filename, or use both with more advanced configurations."
      ],
      "metadata": {
        "id": "lFRT_wNVQQhl"
      }
    },
    {
      "cell_type": "code",
      "source": [
        "import logging\n",
        "\n",
        "# Configure the logging system\n",
        "logging.basicConfig(\n",
        "    filename='app.log',       # Log output file\n",
        "    level=logging.DEBUG,      # Set the minimum log level to DEBUG\n",
        "    format='%(asctime)s - %(levelname)s - %(message)s'\n",
        ")\n",
        "\n",
        "# Logging messages at different levels\n",
        "logging.debug(\"This is a DEBUG message (useful for diagnosing problems).\")\n",
        "logging.info(\"This is an INFO message (general info about program execution).\")\n",
        "logging.warning(\"This is a WARNING message (something unexpected, but not crashing).\")\n",
        "logging.error(\"This is an ERROR message (a serious problem, the program can still run).\")\n",
        "logging.critical(\"This is a CRITICAL message (a very serious error, program may not continue).\")\n"
      ],
      "metadata": {
        "colab": {
          "base_uri": "https://localhost:8080/",
          "height": 0
        },
        "id": "FqbDL5IQQO8s",
        "outputId": "31642e84-dbb3-4b08-bbed-45c44cd77010"
      },
      "execution_count": 15,
      "outputs": [
        {
          "output_type": "stream",
          "name": "stderr",
          "text": [
            "WARNING:root:This is a WARNING message (something unexpected, but not crashing).\n",
            "ERROR:root:This is an ERROR message (a serious problem, the program can still run).\n",
            "CRITICAL:root:This is a CRITICAL message (a very serious error, program may not continue).\n"
          ]
        }
      ]
    },
    {
      "cell_type": "markdown",
      "source": [
        "#Q8.Write a program to handle a file opening error using exception handling"
      ],
      "metadata": {
        "id": "_uR75JIaQ76w"
      }
    },
    {
      "cell_type": "code",
      "source": [
        "file_name = \"data.txt\"  # Replace with your file name\n",
        "\n",
        "try:\n",
        "    with open(file_name, 'r') as file:\n",
        "        content = file.read()\n",
        "        print(\"File content:\")\n",
        "        print(content)\n",
        "except FileNotFoundError:\n",
        "    print(f\"Error: The file '{file_name}' was not found.\")\n",
        "except PermissionError:\n",
        "    print(f\"Error: You do not have permission to read '{file_name}'.\")\n",
        "except IOError as e:\n",
        "    print(f\"An I/O error occurred: {e}\")\n"
      ],
      "metadata": {
        "colab": {
          "base_uri": "https://localhost:8080/",
          "height": 0
        },
        "id": "lHAOdiYPQ6kR",
        "outputId": "fa954db8-4512-478f-c1b6-3611cde07e34"
      },
      "execution_count": 16,
      "outputs": [
        {
          "output_type": "stream",
          "name": "stdout",
          "text": [
            "Error: The file 'data.txt' was not found.\n"
          ]
        }
      ]
    },
    {
      "cell_type": "markdown",
      "source": [
        "#Q9.How can you read a file line by line and store its content in a list in Python"
      ],
      "metadata": {
        "id": "bg5anHO5RJxE"
      }
    },
    {
      "cell_type": "code",
      "source": [
        "file_name = \"example.txt\"  # Replace with your file name\n",
        "\n",
        "try:\n",
        "    with open(file_name, 'r') as file:\n",
        "        lines = [line.strip() for line in file]  # strip() removes \\n and extra spaces\n",
        "    print(\"File content as list:\")\n",
        "    print(lines)\n",
        "except FileNotFoundError:\n",
        "    print(f\"Error: The file '{file_name}' was not found.\")\n"
      ],
      "metadata": {
        "colab": {
          "base_uri": "https://localhost:8080/",
          "height": 0
        },
        "id": "xutBbY9pRFpG",
        "outputId": "c7550981-64e7-473a-85f8-84b54837a6f6"
      },
      "execution_count": 17,
      "outputs": [
        {
          "output_type": "stream",
          "name": "stdout",
          "text": [
            "File content as list:\n",
            "['Hello, this is a test message.']\n"
          ]
        }
      ]
    },
    {
      "cell_type": "markdown",
      "source": [
        "#Q10.How can you append data to an existing file in Python\n",
        "\n",
        "Ans. To append data to an existing file in Python, we can use the 'a' mode (append mode) when opening the file. This mode allows us to add new content to the end of the file without deleting the existing content.\n",
        "\n"
      ],
      "metadata": {
        "id": "rsgmnmJ_RbKq"
      }
    },
    {
      "cell_type": "code",
      "source": [
        "file_name = \"example.txt\"  # Replace with your file name\n",
        "data_to_append = \"This is a new line of text.\"\n",
        "\n",
        "try:\n",
        "    with open(file_name, 'a') as file:\n",
        "        file.write(data_to_append + '\\n')  # Add a newline after the text\n",
        "    print(\"Data appended successfully.\")\n",
        "except IOError as e:\n",
        "    print(f\"An error occurred while writing to the file: {e}\")\n"
      ],
      "metadata": {
        "colab": {
          "base_uri": "https://localhost:8080/",
          "height": 0
        },
        "id": "KTCSQdObRUwQ",
        "outputId": "0103918c-0d2d-4988-d5a4-e7bf5bc62e17"
      },
      "execution_count": 18,
      "outputs": [
        {
          "output_type": "stream",
          "name": "stdout",
          "text": [
            "Data appended successfully.\n"
          ]
        }
      ]
    },
    {
      "cell_type": "markdown",
      "source": [
        "#Q11.Write a Python program that uses a try-except block to handle an error when attempting to access a dictionary key that doesn't exist"
      ],
      "metadata": {
        "id": "cGSW_QPDSIFt"
      }
    },
    {
      "cell_type": "code",
      "source": [
        "# Define a dictionary\n",
        "my_dict = {\"name\": \"Tejas\", \"age\": 28, \"city\": \"Bokaro\"}\n",
        "\n",
        "# Key to access\n",
        "key_to_access = \"address\"\n",
        "\n",
        "try:\n",
        "    # Try to access the dictionary with a key that may not exist\n",
        "    value = my_dict[key_to_access]\n",
        "    print(f\"The value for '{key_to_access}' is {value}\")\n",
        "except KeyError:\n",
        "    # Handle the case where the key doesn't exist\n",
        "    print(f\"Error: The key '{key_to_access}' does not exist in the dictionary.\")"
      ],
      "metadata": {
        "colab": {
          "base_uri": "https://localhost:8080/",
          "height": 0
        },
        "id": "h1Qj8dtFV-uI",
        "outputId": "caebdf02-b72e-4196-eab7-661936ab91b7"
      },
      "execution_count": 28,
      "outputs": [
        {
          "output_type": "stream",
          "name": "stdout",
          "text": [
            "Error: The key 'address' does not exist in the dictionary.\n"
          ]
        }
      ]
    },
    {
      "cell_type": "markdown",
      "source": [
        "#Q12.Write a program that demonstrates using multiple except blocks to handle different types of exceptions"
      ],
      "metadata": {
        "id": "3TbvX_m8WmTi"
      }
    },
    {
      "cell_type": "code",
      "source": [
        "def divide(a, b):\n",
        "    try:\n",
        "        result = a / b\n",
        "        print(f\"The result of {a} / {b} is {result}\")\n",
        "    except ZeroDivisionError:\n",
        "        print(\"Error: Cannot divide by zero.\")\n",
        "    except TypeError:\n",
        "        print(\"Error: Invalid type. Both inputs must be numbers.\")\n",
        "    except Exception as e:\n",
        "        print(f\"An unexpected error occurred: {e}\")\n",
        "\n",
        "# Test cases\n",
        "divide(10, 2)  # This should work\n",
        "divide(10, 0)  # This will raise a ZeroDivisionError\n",
        "divide(10, 'a')  # This will raise a TypeError\n",
        "divide('10', '5')  # This will raise a TypeError\n"
      ],
      "metadata": {
        "colab": {
          "base_uri": "https://localhost:8080/",
          "height": 0
        },
        "id": "vdxA9E5mWbsY",
        "outputId": "9b952e0b-d603-4984-d81a-bd1d34249871"
      },
      "execution_count": 29,
      "outputs": [
        {
          "output_type": "stream",
          "name": "stdout",
          "text": [
            "The result of 10 / 2 is 5.0\n",
            "Error: Cannot divide by zero.\n",
            "Error: Invalid type. Both inputs must be numbers.\n",
            "Error: Invalid type. Both inputs must be numbers.\n"
          ]
        }
      ]
    },
    {
      "cell_type": "markdown",
      "source": [
        "#Q13. How would you check if a file exists before attempting to read it in Python\n"
      ],
      "metadata": {
        "id": "aqmO7VZmaE5A"
      }
    },
    {
      "cell_type": "code",
      "source": [
        "import os\n",
        "\n",
        "file_name = \"example.txt\"\n",
        "\n",
        "if os.path.exists(file_name):\n",
        "    with open(file_name, 'r') as file:\n",
        "        content = file.read()\n",
        "        print(content)\n",
        "else:\n",
        "    print(f\"The file '{file_name}' does not exist.\")\n"
      ],
      "metadata": {
        "colab": {
          "base_uri": "https://localhost:8080/",
          "height": 0
        },
        "id": "0d8-siNwaCp7",
        "outputId": "3a828e69-2983-4033-dabf-1331322bef80"
      },
      "execution_count": 30,
      "outputs": [
        {
          "output_type": "stream",
          "name": "stdout",
          "text": [
            "Hello, this is a test message.This is a new line of text.\n",
            "\n"
          ]
        }
      ]
    },
    {
      "cell_type": "markdown",
      "source": [
        "#Q14. Write a program that uses the logging module to log both informational and error messages"
      ],
      "metadata": {
        "id": "vpqrwnI8arYw"
      }
    },
    {
      "cell_type": "code",
      "source": [
        "import logging\n",
        "\n",
        "# Configure logging\n",
        "logging.basicConfig(\n",
        "    filename='app.log',        # Log file name\n",
        "    level=logging.DEBUG,       # Set the minimum log level (log all messages of level DEBUG and above)\n",
        "    format='%(asctime)s - %(levelname)s - %(message)s'\n",
        ")\n",
        "\n",
        "# Log an informational message\n",
        "logging.info(\"This is an informational message.\")\n",
        "\n",
        "# Log an error message\n",
        "logging.error(\"This is an error message.\")\n",
        "\n",
        "# Log a warning message (optional)\n",
        "logging.warning(\"This is a warning message.\")\n",
        "\n",
        "# Log a debug message (optional)\n",
        "logging.debug(\"This is a debug message.\")\n"
      ],
      "metadata": {
        "colab": {
          "base_uri": "https://localhost:8080/",
          "height": 0
        },
        "id": "x0ewnlwOaoqI",
        "outputId": "f82d1fb3-6441-425a-b56e-cdfc39cf9e87"
      },
      "execution_count": 31,
      "outputs": [
        {
          "output_type": "stream",
          "name": "stderr",
          "text": [
            "ERROR:root:This is an error message.\n",
            "WARNING:root:This is a warning message.\n"
          ]
        }
      ]
    },
    {
      "cell_type": "markdown",
      "source": [
        "#Q15.Write a Python program that prints the content of a file and handles the case when the file is empty"
      ],
      "metadata": {
        "id": "AU6Km3gLbS1M"
      }
    },
    {
      "cell_type": "code",
      "source": [
        "def read_file(filename):\n",
        "    try:\n",
        "        with open(filename, 'r') as file:\n",
        "            content = file.read()\n",
        "\n",
        "            if content.strip():  # Check if the content is not just whitespace\n",
        "                print(\"File content:\")\n",
        "                print(content)\n",
        "            else:\n",
        "                print(f\"The file '{filename}' is empty.\")\n",
        "    except FileNotFoundError:\n",
        "        print(f\"Error: The file '{filename}' does not exist.\")\n",
        "    except IOError as e:\n",
        "        print(f\"An I/O error occurred: {e}\")\n",
        "\n",
        "# Replace 'example.txt' with your file name\n",
        "read_file('example.txt')\n"
      ],
      "metadata": {
        "colab": {
          "base_uri": "https://localhost:8080/",
          "height": 0
        },
        "id": "OA5IWRObbREU",
        "outputId": "08d20e9c-dc89-45e2-a0c1-651a0b6bd5df"
      },
      "execution_count": 32,
      "outputs": [
        {
          "output_type": "stream",
          "name": "stdout",
          "text": [
            "File content:\n",
            "Hello, this is a test message.This is a new line of text.\n",
            "\n"
          ]
        }
      ]
    },
    {
      "cell_type": "markdown",
      "source": [
        "#Q16. Demonstrate how to use memory profiling to check the memory usage of a small program"
      ],
      "metadata": {
        "id": "vluxdeosbgz8"
      }
    },
    {
      "cell_type": "code",
      "source": [
        "from memory_profiler import profile\n",
        "\n",
        "@profile\n",
        "def create_list():\n",
        "    # This will allocate a large list in memory\n",
        "    big_list = [i for i in range(1000000)]\n",
        "    return sum(big_list)\n",
        "\n",
        "if __name__ == '__main__':\n",
        "    create_list()\n"
      ],
      "metadata": {
        "colab": {
          "base_uri": "https://localhost:8080/",
          "height": 0
        },
        "id": "LRt2hSoCbc9b",
        "outputId": "719866d6-1bd7-4337-95a7-6fbd48377dc5"
      },
      "execution_count": 33,
      "outputs": [
        {
          "output_type": "stream",
          "name": "stdout",
          "text": [
            "ERROR: Could not find file <ipython-input-33-771fa33edf2e>\n",
            "NOTE: %mprun can only be used on functions defined in physical files, and not in the IPython environment.\n"
          ]
        }
      ]
    },
    {
      "cell_type": "markdown",
      "source": [
        "#Q17.Write a Python program to create and write a list of numbers to a file, one number per line"
      ],
      "metadata": {
        "id": "Eul4jhmGb3IF"
      }
    },
    {
      "cell_type": "code",
      "source": [
        "# List of numbers to write\n",
        "numbers = [1, 2, 3, 4, 5, 6, 7, 8, 9, 10]\n",
        "\n",
        "# File to write to\n",
        "file_name = \"numbers.txt\"\n",
        "\n",
        "try:\n",
        "    with open(file_name, 'w') as file:\n",
        "        for number in numbers:\n",
        "            file.write(f\"{number}\\n\")\n",
        "    print(f\"Successfully wrote {len(numbers)} numbers to '{file_name}'.\")\n",
        "except IOError as e:\n",
        "    print(f\"An error occurred while writing to the file: {e}\")\n"
      ],
      "metadata": {
        "colab": {
          "base_uri": "https://localhost:8080/",
          "height": 0
        },
        "id": "nhtPoHZGbwIJ",
        "outputId": "dd985530-6229-4a48-9073-063ab5c9c576"
      },
      "execution_count": 34,
      "outputs": [
        {
          "output_type": "stream",
          "name": "stdout",
          "text": [
            "Successfully wrote 10 numbers to 'numbers.txt'.\n"
          ]
        }
      ]
    },
    {
      "cell_type": "markdown",
      "source": [
        "#Q18.How would you implement a basic logging setup that logs to a file with rotation after 1MB"
      ],
      "metadata": {
        "id": "HyF-xzqncu2R"
      }
    },
    {
      "cell_type": "code",
      "source": [
        "import logging\n",
        "from logging.handlers import RotatingFileHandler\n",
        "\n",
        "# Set up a rotating file handler\n",
        "log_handler = RotatingFileHandler(\n",
        "    'app.log',        # Log file name\n",
        "    maxBytes=1 * 1024 * 1024,  # 1 MB\n",
        "    backupCount=3     # Keep 3 backup files (app.log.1, app.log.2, etc.)\n",
        ")\n",
        "\n",
        "# Log formatting\n",
        "formatter = logging.Formatter('%(asctime)s - %(levelname)s - %(message)s')\n",
        "log_handler.setFormatter(formatter)\n",
        "\n",
        "# Set up the main logger\n",
        "logger = logging.getLogger('rotating_logger')\n",
        "logger.setLevel(logging.INFO)  # You can set to DEBUG, WARNING, etc.\n",
        "logger.addHandler(log_handler)\n",
        "\n",
        "# Example log messages\n",
        "logger.info(\"This is an info message.\")\n",
        "logger.error(\"This is an error message.\")\n"
      ],
      "metadata": {
        "colab": {
          "base_uri": "https://localhost:8080/",
          "height": 0
        },
        "id": "UNCi32x6cj8D",
        "outputId": "ee8c8d52-3b18-4cde-b4de-286b87bd01f7"
      },
      "execution_count": 35,
      "outputs": [
        {
          "output_type": "stream",
          "name": "stderr",
          "text": [
            "INFO:rotating_logger:This is an info message.\n",
            "ERROR:rotating_logger:This is an error message.\n"
          ]
        }
      ]
    },
    {
      "cell_type": "markdown",
      "source": [
        "#Q19. Write a program that handles both IndexError and KeyError using a try-except block"
      ],
      "metadata": {
        "id": "h7_JLPZyc-d4"
      }
    },
    {
      "cell_type": "code",
      "source": [
        "def handle_exceptions():\n",
        "    my_list = [1, 2, 3]\n",
        "    my_dict = {\"name\": \"John\", \"age\": 30}\n",
        "\n",
        "    try:\n",
        "        # Trying to access an invalid index\n",
        "        print(\"List element at index 5:\", my_list[5])\n",
        "\n",
        "        # Trying to access a missing key\n",
        "        print(\"City:\", my_dict[\"city\"])\n",
        "\n",
        "    except IndexError:\n",
        "        print(\"Error: List index is out of range.\")\n",
        "\n",
        "    except KeyError:\n",
        "        print(\"Error: Dictionary key not found.\")\n",
        "\n",
        "# Call the function\n",
        "handle_exceptions()\n"
      ],
      "metadata": {
        "colab": {
          "base_uri": "https://localhost:8080/",
          "height": 0
        },
        "id": "wXGre3zwc87U",
        "outputId": "7d115082-dbb2-4d79-8568-cbe18fb0c341"
      },
      "execution_count": 36,
      "outputs": [
        {
          "output_type": "stream",
          "name": "stdout",
          "text": [
            "Error: List index is out of range.\n"
          ]
        }
      ]
    },
    {
      "cell_type": "markdown",
      "source": [
        "#Q20.How would you open a file and read its contents using a context manager in Python"
      ],
      "metadata": {
        "id": "4Gt8WMR3fmAg"
      }
    },
    {
      "cell_type": "code",
      "source": [
        "file_name = \"example.txt\"\n",
        "\n",
        "try:\n",
        "    with open(file_name, 'r') as file:\n",
        "        contents = file.read()\n",
        "        print(\"File contents:\")\n",
        "        print(contents)\n",
        "except FileNotFoundError:\n",
        "    print(f\"Error: The file '{file_name}' was not found.\")\n",
        "except IOError as e:\n",
        "    print(f\"An I/O error occurred: {e}\")\n"
      ],
      "metadata": {
        "colab": {
          "base_uri": "https://localhost:8080/",
          "height": 0
        },
        "id": "lQB5pN9lfqNn",
        "outputId": "9d25619c-5f46-4266-d9b7-63654973f579"
      },
      "execution_count": 37,
      "outputs": [
        {
          "output_type": "stream",
          "name": "stdout",
          "text": [
            "File contents:\n",
            "Hello, this is a test message.This is a new line of text.\n",
            "\n"
          ]
        }
      ]
    },
    {
      "cell_type": "markdown",
      "source": [
        "#Q21. Write a Python program that reads a file and prints the number of occurrences of a specific word\n"
      ],
      "metadata": {
        "id": "R695rE6Zfwui"
      }
    },
    {
      "cell_type": "code",
      "source": [
        "file_name = \"example.txt\"\n",
        "\n",
        "try:\n",
        "    with open(file_name, 'r') as file:\n",
        "        contents = file.read()\n",
        "        print(\"File contents:\")\n",
        "        print(contents)\n",
        "except FileNotFoundError:\n",
        "    print(f\"Error: The file '{file_name}' was not found.\")\n",
        "except IOError as e:\n",
        "    print(f\"An I/O error occurred: {e}\")\n"
      ],
      "metadata": {
        "colab": {
          "base_uri": "https://localhost:8080/",
          "height": 0
        },
        "id": "06wtcoggfu0w",
        "outputId": "34829b5b-e48f-4b14-e650-ede5d6bc1fde"
      },
      "execution_count": 38,
      "outputs": [
        {
          "output_type": "stream",
          "name": "stdout",
          "text": [
            "File contents:\n",
            "Hello, this is a test message.This is a new line of text.\n",
            "\n"
          ]
        }
      ]
    },
    {
      "cell_type": "markdown",
      "source": [
        "#Q22. How can you check if a file is empty before attempting to read its contents"
      ],
      "metadata": {
        "id": "bCrKfsJPgDyr"
      }
    },
    {
      "cell_type": "code",
      "source": [
        "import os\n",
        "\n",
        "file_name = \"example.txt\"\n",
        "\n",
        "if os.path.exists(file_name):\n",
        "    if os.path.getsize(file_name) == 0:\n",
        "        print(f\"The file '{file_name}' is empty.\")\n",
        "    else:\n",
        "        with open(file_name, 'r') as file:\n",
        "            contents = file.read()\n",
        "            print(\"File contents:\")\n",
        "            print(contents)\n",
        "else:\n",
        "    print(f\"The file '{file_name}' does not exist.\")\n"
      ],
      "metadata": {
        "colab": {
          "base_uri": "https://localhost:8080/",
          "height": 0
        },
        "id": "cj2gs1TXgAI0",
        "outputId": "e8b4fb5c-8c12-444d-d3cf-37cf4e3a5724"
      },
      "execution_count": 39,
      "outputs": [
        {
          "output_type": "stream",
          "name": "stdout",
          "text": [
            "File contents:\n",
            "Hello, this is a test message.This is a new line of text.\n",
            "\n"
          ]
        }
      ]
    },
    {
      "cell_type": "markdown",
      "source": [
        "#Q23.Write a Python program that writes to a log file when an error occurs during file handling.\n"
      ],
      "metadata": {
        "id": "XnRN8kkCgY-d"
      }
    },
    {
      "cell_type": "code",
      "source": [
        "import logging\n",
        "\n",
        "# Configure logging\n",
        "logging.basicConfig(\n",
        "    filename='file_errors.log',           # Log file name\n",
        "    level=logging.ERROR,                  # Log only errors and above\n",
        "    format='%(asctime)s - %(levelname)s - %(message)s'\n",
        ")\n",
        "\n",
        "def read_file(file_name):\n",
        "    try:\n",
        "        with open(file_name, 'r') as file:\n",
        "            contents = file.read()\n",
        "            print(\"File contents:\")\n",
        "            print(contents)\n",
        "    except FileNotFoundError as e:\n",
        "        logging.error(f\"File not found: {file_name}\")\n",
        "        print(f\"Error: The file '{file_name}' does not exist.\")\n",
        "    except IOError as e:\n",
        "        logging.error(f\"I/O error while reading file '{file_name}': {e}\")\n",
        "        print(f\"Error reading file '{file_name}'.\")\n",
        "\n",
        "# Example usage\n",
        "read_file(\"missing_file.txt\")\n"
      ],
      "metadata": {
        "colab": {
          "base_uri": "https://localhost:8080/",
          "height": 0
        },
        "id": "DQISEBSNgS6u",
        "outputId": "d47704e8-8921-4b9c-e8b4-6a1ca083ee45"
      },
      "execution_count": 40,
      "outputs": [
        {
          "output_type": "stream",
          "name": "stderr",
          "text": [
            "ERROR:root:File not found: missing_file.txt\n"
          ]
        },
        {
          "output_type": "stream",
          "name": "stdout",
          "text": [
            "Error: The file 'missing_file.txt' does not exist.\n"
          ]
        }
      ]
    },
    {
      "cell_type": "code",
      "source": [],
      "metadata": {
        "id": "sH1bNNscgiag"
      },
      "execution_count": null,
      "outputs": []
    }
  ]
}